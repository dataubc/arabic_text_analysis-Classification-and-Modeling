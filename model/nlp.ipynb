{
 "cells": [
  {
   "cell_type": "markdown",
   "metadata": {},
   "source": [
    "### Multilable Classification for Arbabic data set"
   ]
  },
  {
   "cell_type": "code",
   "execution_count": 11,
   "metadata": {},
   "outputs": [],
   "source": [
    "import pandas as pd\n",
    "from sklearn.model_selection import train_test_split\n",
    "from sklearn.feature_extraction.text import CountVectorizer, TfidfTransformer\n",
    "from sklearn.feature_extraction.text import TfidfVectorizer\n",
    "from sklearn.feature_extraction.text import CountVectorizer, TfidfTransformer\n",
    "from sklearn.linear_model import LogisticRegression\n",
    "\n",
    "from sklearn.naive_bayes import MultinomialNB\n",
    "from sklearn.linear_model import SGDClassifier\n",
    "\n",
    "from sklearn.pipeline import Pipeline\n",
    "from sklearn.feature_extraction.text import TfidfTransformer\n",
    "from sklearn.metrics import confusion_matrix,accuracy_score\n",
    "\n",
    "from sklearn.metrics import classification_report\n",
    "\n",
    "df = pd.read_csv('../../data/arabic_dataset_classification.csv')\n",
    "df = df.dropna()\n",
    "# let's create our X and y\n",
    "x=df.iloc[:,0]\n",
    "y=df.iloc[:,1]\n",
    "# splitting the data into train and test set\n",
    "X_train, X_test, y_train, y_test = train_test_split(x, y, test_size = 0.20, random_state = 202, stratify=y)\n",
    "# include in our classifiers in a dict\n",
    "\n",
    "#classifiers = {'sgd classifer ':SGDClassifier(),'MultinomialNB':MultinomialNB()}\n",
    "classifier = SGDClassifier()\n",
    "nb = Pipeline([('vect', CountVectorizer()),\n",
    "                   ('clf', classifier),\n",
    "              ])\n",
    "nb.fit(X_train, y_train)\n",
    "\n",
    "import pickle\n",
    "filename= \"../pickle_model.pkl\"\n",
    "with open(filename, 'wb') as fout:\n",
    "    pickle.dump(nb,fout)"
   ]
  },
  {
   "cell_type": "code",
   "execution_count": null,
   "metadata": {},
   "outputs": [],
   "source": [
    "import pickle\n",
    "filename= \"../pickle_model.pkl\"\n",
    "with open(filename, 'wb') as fout:\n",
    "    pickle.dump(nb,fout)"
   ]
  },
  {
   "cell_type": "code",
   "execution_count": null,
   "metadata": {},
   "outputs": [],
   "source": []
  }
 ],
 "metadata": {
  "kernelspec": {
   "display_name": "Python 3",
   "language": "python",
   "name": "python3"
  },
  "language_info": {
   "codemirror_mode": {
    "name": "ipython",
    "version": 3
   },
   "file_extension": ".py",
   "mimetype": "text/x-python",
   "name": "python",
   "nbconvert_exporter": "python",
   "pygments_lexer": "ipython3",
   "version": "3.8.3"
  }
 },
 "nbformat": 4,
 "nbformat_minor": 4
}
